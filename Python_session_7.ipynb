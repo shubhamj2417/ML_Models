{
 "cells": [
  {
   "cell_type": "markdown",
   "id": "d8572e6d-c26f-4584-83df-4f1bf607baaa",
   "metadata": {},
   "source": [
    "**Condition Statements**"
   ]
  },
  {
   "cell_type": "code",
   "execution_count": null,
   "id": "399fa032-726a-4cdc-832f-df887e5f5397",
   "metadata": {},
   "outputs": [],
   "source": [
    "- Condition Statements- means we want to run the code line based on condition \n",
    "\n",
    "- If rain comes I will not go to school other wise I will go to movie \n",
    "\n",
    "- Rain is there will effect one process\n",
    "\n",
    "- Rain is not there will \n",
    "\n",
    "- if \n",
    "\n",
    "- elif\n",
    "\n",
    "- else"
   ]
  },
  {
   "cell_type": "code",
   "execution_count": null,
   "id": "85d60de4-537a-4512-b102-e04c144ca159",
   "metadata": {},
   "outputs": [],
   "source": [
    "# Syantax\n",
    "\n",
    "if <condition>:\n",
    "    <codeline1>            # Indentation \n",
    "    <codeline2>"
   ]
  },
  {
   "cell_type": "markdown",
   "id": "85134e7a-0ce9-4914-8b75-49e17512693e",
   "metadata": {},
   "source": [
    "- when ever any aline start with keyword(green) at the end of the line we have colon(:) \n",
    "\n",
    "- whenever we have a colon(:) the next lines start with some **gap**\n",
    "\n",
    "- and this gap is called as **Indentation**\n",
    "\n",
    "- how many line we have are amintaing gap that all are under one area"
   ]
  },
  {
   "cell_type": "markdown",
   "id": "49d74833-b8a4-43a8-b5c5-39b967073957",
   "metadata": {},
   "source": [
    "- if is a condition statement , it will check the condition is True or False\n",
    "\n",
    "- if that condition will True tehn only , it will enter inside \n",
    "\n"
   ]
  },
  {
   "cell_type": "code",
   "execution_count": 20,
   "id": "b9865db0-b997-4517-a95c-36af70239d39",
   "metadata": {},
   "outputs": [
    {
     "data": {
      "text/plain": [
       "True"
      ]
     },
     "execution_count": 20,
     "metadata": {},
     "output_type": "execute_result"
    }
   ],
   "source": [
    "100>10"
   ]
  },
  {
   "cell_type": "code",
   "execution_count": 2,
   "id": "b69b8e58-e77d-4934-92d7-3b45bbf033a8",
   "metadata": {},
   "outputs": [
    {
     "name": "stdout",
     "output_type": "stream",
     "text": [
      "hello\n"
     ]
    }
   ],
   "source": [
    "if 100>10:                 # If True: \n",
    "    print(\"hello\")"
   ]
  },
  {
   "cell_type": "code",
   "execution_count": 3,
   "id": "8b3c140b-8e4d-4110-bcf2-c6584c63a5be",
   "metadata": {},
   "outputs": [
    {
     "ename": "IndentationError",
     "evalue": "expected an indented block after 'if' statement on line 3 (2475601962.py, line 4)",
     "output_type": "error",
     "traceback": [
      "\u001b[1;36m  Cell \u001b[1;32mIn[3], line 4\u001b[1;36m\u001b[0m\n\u001b[1;33m    print(\"hello\")\u001b[0m\n\u001b[1;37m    ^\u001b[0m\n\u001b[1;31mIndentationError\u001b[0m\u001b[1;31m:\u001b[0m expected an indented block after 'if' statement on line 3\n"
     ]
    }
   ],
   "source": [
    "# Mistake - 1** \n",
    "\n",
    "if 100>10:                 # If True: \n",
    "print(\"hello\")"
   ]
  },
  {
   "cell_type": "code",
   "execution_count": 4,
   "id": "726d56ff-603f-4f4c-8dba-78fd08e33d88",
   "metadata": {},
   "outputs": [
    {
     "ename": "SyntaxError",
     "evalue": "expected ':' (152180262.py, line 3)",
     "output_type": "error",
     "traceback": [
      "\u001b[1;36m  Cell \u001b[1;32mIn[4], line 3\u001b[1;36m\u001b[0m\n\u001b[1;33m    if 100>10                 # If True:\u001b[0m\n\u001b[1;37m                              ^\u001b[0m\n\u001b[1;31mSyntaxError\u001b[0m\u001b[1;31m:\u001b[0m expected ':'\n"
     ]
    }
   ],
   "source": [
    "# Mistake - 2\n",
    "\n",
    "if 100>10                 # If True: \n",
    "    print(\"hello\")"
   ]
  },
  {
   "cell_type": "code",
   "execution_count": 5,
   "id": "de36d6f7-c104-4dec-8eb4-ad5d05b19b71",
   "metadata": {},
   "outputs": [
    {
     "ename": "SyntaxError",
     "evalue": "invalid syntax (3450901844.py, line 3)",
     "output_type": "error",
     "traceback": [
      "\u001b[1;36m  Cell \u001b[1;32mIn[5], line 3\u001b[1;36m\u001b[0m\n\u001b[1;33m    if:                 # If True:\u001b[0m\n\u001b[1;37m      ^\u001b[0m\n\u001b[1;31mSyntaxError\u001b[0m\u001b[1;31m:\u001b[0m invalid syntax\n"
     ]
    }
   ],
   "source": [
    "# Mistake - 3\n",
    "\n",
    "if:                 # If True: \n",
    "print(\"hello\")"
   ]
  },
  {
   "cell_type": "code",
   "execution_count": 6,
   "id": "2ad23d72-f541-4125-b819-57b2cba33220",
   "metadata": {},
   "outputs": [
    {
     "name": "stdout",
     "output_type": "stream",
     "text": [
      "hello\n"
     ]
    }
   ],
   "source": [
    "# Mistake - 5\n",
    "\n",
    "# Never ever assign a variable to a print statement\n",
    "\n",
    "if 100>10:                 \n",
    "    name=print(\"hello\")"
   ]
  },
  {
   "cell_type": "code",
   "execution_count": 7,
   "id": "db12e74d-944c-4a11-8b2d-e69bd8b27e6a",
   "metadata": {},
   "outputs": [
    {
     "ename": "SyntaxError",
     "evalue": "invalid syntax (3618930989.py, line 6)",
     "output_type": "error",
     "traceback": [
      "\u001b[1;36m  Cell \u001b[1;32mIn[7], line 6\u001b[1;36m\u001b[0m\n\u001b[1;33m    if100>100:\u001b[0m\n\u001b[1;37m             ^\u001b[0m\n\u001b[1;31mSyntaxError\u001b[0m\u001b[1;31m:\u001b[0m invalid syntax\n"
     ]
    }
   ],
   "source": [
    "# Mistake-6\n",
    "\n",
    "# All types of syantax error\n",
    "# spelling mistakes\n",
    "\n",
    "if100>100:\n"
   ]
  },
  {
   "cell_type": "code",
   "execution_count": 8,
   "id": "8ae719bb-5016-41c6-baff-6ebc267fccfc",
   "metadata": {},
   "outputs": [
    {
     "name": "stdout",
     "output_type": "stream",
     "text": [
      "hello\n",
      "good Morning\n",
      "Okay\n",
      "bye\n"
     ]
    }
   ],
   "source": [
    "if 100>10:                 # If True: \n",
    "    print(\"hello\")\n",
    "    print(\"good Morning\")\n",
    "################################## If area ##############\n",
    "print(\"Okay\")\n",
    "print(\"bye\")\n",
    "################################ noraml area( outside loop)#####\n",
    "#step1 - if 100>10  if true \n",
    "#step-2 - hello \n",
    "#step-3 - good morining \n",
    "#step-4 - Okay\n",
    "#step-5 - bye"
   ]
  },
  {
   "cell_type": "code",
   "execution_count": 10,
   "id": "3ba1d965-ccc0-4b5c-ab4d-53efe7e991c9",
   "metadata": {},
   "outputs": [
    {
     "name": "stdout",
     "output_type": "stream",
     "text": [
      "10\n",
      "20\n",
      "hello\n",
      "good Morning\n",
      "Okay\n",
      "bye\n"
     ]
    }
   ],
   "source": [
    "print(10)\n",
    "print(20)\n",
    "\n",
    "\n",
    "if 100>10:                \n",
    "    print(\"hello\")\n",
    "    print(\"good Morning\")\n",
    "\n",
    "\n",
    "print(\"Okay\")\n",
    "print(\"bye\")"
   ]
  },
  {
   "cell_type": "code",
   "execution_count": 11,
   "id": "e73a0a4b-4f27-4364-8cf5-8b513f9f0db9",
   "metadata": {},
   "outputs": [
    {
     "ename": "IndentationError",
     "evalue": "unexpected indent (1297306537.py, line 6)",
     "output_type": "error",
     "traceback": [
      "\u001b[1;36m  Cell \u001b[1;32mIn[11], line 6\u001b[1;36m\u001b[0m\n\u001b[1;33m    print(\"Okay\")\u001b[0m\n\u001b[1;37m    ^\u001b[0m\n\u001b[1;31mIndentationError\u001b[0m\u001b[1;31m:\u001b[0m unexpected indent\n"
     ]
    }
   ],
   "source": [
    "print(10)\n",
    "print(20)\n",
    "if 100>10:                \n",
    "    print(\"hello\")   \n",
    "print(\"good Morning\")\n",
    "    print(\"Okay\")\n",
    "print(\"bye\")"
   ]
  },
  {
   "cell_type": "code",
   "execution_count": 12,
   "id": "ae443807-69d4-43b8-80d9-6eca425184d6",
   "metadata": {},
   "outputs": [
    {
     "name": "stdout",
     "output_type": "stream",
     "text": [
      "10\n",
      "20\n",
      "hello\n",
      "good Morning\n",
      "Okay\n",
      "bye\n"
     ]
    }
   ],
   "source": [
    "print(10)\n",
    "print(20)\n",
    "if True:                \n",
    "    print(\"hello\")   \n",
    "    print(\"good Morning\")\n",
    "print(\"Okay\")\n",
    "print(\"bye\")"
   ]
  },
  {
   "cell_type": "code",
   "execution_count": 13,
   "id": "b6c838cd-b938-4bdc-afdf-a2d38b240ba4",
   "metadata": {},
   "outputs": [
    {
     "ename": "IndentationError",
     "evalue": "unexpected indent (2853087845.py, line 6)",
     "output_type": "error",
     "traceback": [
      "\u001b[1;36m  Cell \u001b[1;32mIn[13], line 6\u001b[1;36m\u001b[0m\n\u001b[1;33m    print(\"Okay\")\u001b[0m\n\u001b[1;37m    ^\u001b[0m\n\u001b[1;31mIndentationError\u001b[0m\u001b[1;31m:\u001b[0m unexpected indent\n"
     ]
    }
   ],
   "source": [
    "print(10)\n",
    "print(20)\n",
    "if 100<10:                \n",
    "    print(\"hello\")   \n",
    "print(\"good Morning\")\n",
    "    print(\"Okay\")\n",
    "print(\"bye\")"
   ]
  },
  {
   "cell_type": "code",
   "execution_count": 15,
   "id": "71ff1e53-f6f7-4602-8909-b431216b6b81",
   "metadata": {},
   "outputs": [
    {
     "name": "stdout",
     "output_type": "stream",
     "text": [
      "10\n",
      "20\n",
      "hello\n",
      "good Morning\n",
      "Okay\n",
      "bye\n"
     ]
    }
   ],
   "source": [
    "print(10)\n",
    "print(20)\n",
    "if 100:                \n",
    "    print(\"hello\")   \n",
    "print(\"good Morning\")\n",
    "print(\"Okay\")\n",
    "print(\"bye\")"
   ]
  },
  {
   "cell_type": "code",
   "execution_count": 16,
   "id": "11e20961-ce6d-4df9-8fdc-3ec89553a470",
   "metadata": {},
   "outputs": [
    {
     "data": {
      "text/plain": [
       "True"
      ]
     },
     "execution_count": 16,
     "metadata": {},
     "output_type": "execute_result"
    }
   ],
   "source": [
    "bool(100)"
   ]
  },
  {
   "cell_type": "code",
   "execution_count": 17,
   "id": "176bde72-d7a0-48c5-b0e2-e00c93b1a4fe",
   "metadata": {},
   "outputs": [
    {
     "name": "stdout",
     "output_type": "stream",
     "text": [
      "10\n",
      "hello\n",
      "good Morning\n",
      "Okay\n",
      "bye\n"
     ]
    }
   ],
   "source": [
    "print(10)\n",
    "if 'hello':                \n",
    "    print(\"hello\")   \n",
    "print(\"good Morning\")\n",
    "print(\"Okay\")\n",
    "print(\"bye\")"
   ]
  },
  {
   "cell_type": "code",
   "execution_count": 18,
   "id": "ef86e5f2-4a89-44d9-88fa-c5d908662a20",
   "metadata": {},
   "outputs": [
    {
     "name": "stdout",
     "output_type": "stream",
     "text": [
      "10\n",
      "good Morning\n",
      "Okay\n",
      "bye\n"
     ]
    }
   ],
   "source": [
    "print(10)\n",
    "if '':                \n",
    "    print(\"hello\")    ## Not show  \n",
    "print(\"good Morning\")\n",
    "print(\"Okay\")\n",
    "print(\"bye\")"
   ]
  },
  {
   "cell_type": "markdown",
   "id": "01c60333-7a93-4dd9-864a-cacfd9e46cf2",
   "metadata": {},
   "source": [
    "**if-else**"
   ]
  },
  {
   "cell_type": "code",
   "execution_count": null,
   "id": "88d3d864-4ad9-4d02-a4a9-ce35d68ed097",
   "metadata": {},
   "outputs": [],
   "source": [
    "- if required condition '\n",
    "\n",
    "- if that condtion is true , then it will execute if block\n",
    "\n",
    "- otherwise it can directly go to the else block \n",
    "\n",
    "- so else block \n"
   ]
  },
  {
   "cell_type": "code",
   "execution_count": null,
   "id": "7ec89399-d769-4fd7-b3c4-9085991780da",
   "metadata": {},
   "outputs": [],
   "source": [
    "# syantax\n",
    "\n",
    "if <condtion>:\n",
    "    <code line>\n",
    "else:\n",
    "    <code line>"
   ]
  },
  {
   "cell_type": "code",
   "execution_count": 23,
   "id": "f6e18ee4-cbca-4917-9e73-eebc87beb318",
   "metadata": {},
   "outputs": [
    {
     "name": "stdout",
     "output_type": "stream",
     "text": [
      "hello\n",
      "Good condition is correct\n",
      "bye\n"
     ]
    }
   ],
   "source": [
    "print('hello')\n",
    "if 100>10:\n",
    "    print('Good condition is correct')             # Condition is True\n",
    "else:\n",
    "    print('Not good condition is wrong')\n",
    "print('bye')"
   ]
  },
  {
   "cell_type": "code",
   "execution_count": 24,
   "id": "ab33764d-4af1-42d8-a165-d44ebd17ce78",
   "metadata": {},
   "outputs": [
    {
     "name": "stdout",
     "output_type": "stream",
     "text": [
      "hello\n",
      "Not good condition is wrong\n",
      "bye\n"
     ]
    }
   ],
   "source": [
    "print('hello')\n",
    "if 100<10:\n",
    "    print('Good condition is correct')            # condition is False\n",
    "else:\n",
    "    print('Not good condition is wrong')\n",
    "print('bye')"
   ]
  },
  {
   "cell_type": "code",
   "execution_count": 25,
   "id": "0e7958f9-68ac-4323-a02a-ff69ea7e6b79",
   "metadata": {},
   "outputs": [
    {
     "ename": "SyntaxError",
     "evalue": "invalid syntax (4091730686.py, line 5)",
     "output_type": "error",
     "traceback": [
      "\u001b[1;36m  Cell \u001b[1;32mIn[25], line 5\u001b[1;36m\u001b[0m\n\u001b[1;33m    else:\u001b[0m\n\u001b[1;37m    ^\u001b[0m\n\u001b[1;31mSyntaxError\u001b[0m\u001b[1;31m:\u001b[0m invalid syntax\n"
     ]
    }
   ],
   "source": [
    "print('hello')\n",
    "if 100>10:\n",
    "    print('Good condition is correct')\n",
    "print('why you are in middle')\n",
    "else:\n",
    "    print('Not good condition is wrong')\n",
    "print('bye')"
   ]
  },
  {
   "cell_type": "code",
   "execution_count": 26,
   "id": "a89d4ddd-c764-4aad-89e0-a4f2c5b940d6",
   "metadata": {},
   "outputs": [
    {
     "name": "stdout",
     "output_type": "stream",
     "text": [
      "20\n",
      "0\n",
      "20\n",
      "0.0\n"
     ]
    },
    {
     "ename": "ZeroDivisionError",
     "evalue": "division by zero",
     "output_type": "error",
     "traceback": [
      "\u001b[1;31m---------------------------------------------------------------------------\u001b[0m",
      "\u001b[1;31mZeroDivisionError\u001b[0m                         Traceback (most recent call last)",
      "Cell \u001b[1;32mIn[26], line 10\u001b[0m\n\u001b[0;32m      8\u001b[0m d\u001b[38;5;241m=\u001b[39mb\u001b[38;5;241m/\u001b[39ma\n\u001b[0;32m      9\u001b[0m \u001b[38;5;28mprint\u001b[39m(d)\n\u001b[1;32m---> 10\u001b[0m e\u001b[38;5;241m=\u001b[39ma\u001b[38;5;241m/\u001b[39mb\n\u001b[0;32m     11\u001b[0m \u001b[38;5;28mprint\u001b[39m(e)\n",
      "\u001b[1;31mZeroDivisionError\u001b[0m: division by zero"
     ]
    }
   ],
   "source": [
    "if True:\n",
    "    a=20\n",
    "    b=0\n",
    "    print(a)\n",
    "    print(b)\n",
    "    c=a+b\n",
    "    print(c)\n",
    "    d=b/a\n",
    "    print(d)\n",
    "    e=a/b\n",
    "    print(e)"
   ]
  },
  {
   "cell_type": "code",
   "execution_count": 27,
   "id": "34aef77d-22e9-4dfe-9382-4142d79a9d68",
   "metadata": {},
   "outputs": [
    {
     "data": {
      "text/plain": [
       "0.0"
      ]
     },
     "execution_count": 27,
     "metadata": {},
     "output_type": "execute_result"
    }
   ],
   "source": [
    "0/10"
   ]
  },
  {
   "cell_type": "code",
   "execution_count": 28,
   "id": "70fbe2ff-5978-48b7-ba88-2536f703f82e",
   "metadata": {},
   "outputs": [
    {
     "ename": "ZeroDivisionError",
     "evalue": "division by zero",
     "output_type": "error",
     "traceback": [
      "\u001b[1;31m---------------------------------------------------------------------------\u001b[0m",
      "\u001b[1;31mZeroDivisionError\u001b[0m                         Traceback (most recent call last)",
      "Cell \u001b[1;32mIn[28], line 1\u001b[0m\n\u001b[1;32m----> 1\u001b[0m \u001b[38;5;241m10\u001b[39m\u001b[38;5;241m/\u001b[39m\u001b[38;5;241m0\u001b[39m\n",
      "\u001b[1;31mZeroDivisionError\u001b[0m: division by zero"
     ]
    }
   ],
   "source": [
    "10/0"
   ]
  },
  {
   "cell_type": "code",
   "execution_count": 29,
   "id": "a7e5bd33-1102-4000-8c49-21b10a78dca2",
   "metadata": {},
   "outputs": [
    {
     "data": {
      "text/plain": [
       "1.25"
      ]
     },
     "execution_count": 29,
     "metadata": {},
     "output_type": "execute_result"
    }
   ],
   "source": [
    "5/4             # normal"
   ]
  },
  {
   "cell_type": "code",
   "execution_count": 30,
   "id": "801b8085-9e46-492e-8060-df6b355360d9",
   "metadata": {},
   "outputs": [
    {
     "data": {
      "text/plain": [
       "1"
      ]
     },
     "execution_count": 30,
     "metadata": {},
     "output_type": "execute_result"
    }
   ],
   "source": [
    "5//4         # floor divison "
   ]
  },
  {
   "cell_type": "code",
   "execution_count": 32,
   "id": "dbce5d8d-3db0-4d2d-abe8-30b33eb470b1",
   "metadata": {},
   "outputs": [
    {
     "data": {
      "text/plain": [
       "1"
      ]
     },
     "execution_count": 32,
     "metadata": {},
     "output_type": "execute_result"
    }
   ],
   "source": [
    "#Moduls operator\n",
    "\n",
    "5%4        # Remainder"
   ]
  },
  {
   "cell_type": "code",
   "execution_count": null,
   "id": "ef28cc08-28af-4e22-8260-9504c95c950a",
   "metadata": {},
   "outputs": [],
   "source": [
    "# write a programm  ask the user enter a number \n",
    "# find it is a even number or add numbers\n",
    "\n",
    "# step-1 : num =eval(input())\n",
    "# step-2 : if <con>\n",
    "# step-3 :  print()\n",
    "# step-4 : else:\n",
    "# step-5 : print()"
   ]
  },
  {
   "cell_type": "code",
   "execution_count": 3,
   "id": "b84b2c3d-f22b-4eeb-ad7f-e9903deab047",
   "metadata": {},
   "outputs": [
    {
     "name": "stdin",
     "output_type": "stream",
     "text": [
      "enter a number: 20\n"
     ]
    },
    {
     "name": "stdout",
     "output_type": "stream",
     "text": [
      "the20 is even\n"
     ]
    }
   ],
   "source": [
    "num=eval(input('enter a number:'))\n",
    "if num%2==0:\n",
    "    print(f\"the{num} is even\")\n",
    "else:\n",
    "   print(f\"the {num} is odd\")"
   ]
  },
  {
   "cell_type": "code",
   "execution_count": null,
   "id": "4b6f2848-24fe-44ac-ab3d-d87ffc15acb7",
   "metadata": {},
   "outputs": [],
   "source": [
    "# implement the above problem by taking a random input between  1, 100"
   ]
  },
  {
   "cell_type": "code",
   "execution_count": 2,
   "id": "66a0ee5d-7fb8-40bc-8aba-fdb8b6723a16",
   "metadata": {},
   "outputs": [
    {
     "ename": "NameError",
     "evalue": "name 'start' is not defined",
     "output_type": "error",
     "traceback": [
      "\u001b[1;31m---------------------------------------------------------------------------\u001b[0m",
      "\u001b[1;31mNameError\u001b[0m                                 Traceback (most recent call last)",
      "Cell \u001b[1;32mIn[2], line 2\u001b[0m\n\u001b[0;32m      1\u001b[0m \u001b[38;5;28;01mimport\u001b[39;00m \u001b[38;5;21;01mrandom\u001b[39;00m \n\u001b[1;32m----> 2\u001b[0m num\u001b[38;5;241m=\u001b[39mrandom\u001b[38;5;241m.\u001b[39mrandint(start,end)\n\u001b[0;32m      3\u001b[0m \u001b[38;5;28;01mif\u001b[39;00m num\u001b[38;5;241m%\u001b[39m\u001b[38;5;241m2\u001b[39m\u001b[38;5;241m==\u001b[39m\u001b[38;5;241m0\u001b[39m:\n\u001b[0;32m      4\u001b[0m     \u001b[38;5;28mprint\u001b[39m(\u001b[38;5;124mf\u001b[39m\u001b[38;5;124m\"\u001b[39m\u001b[38;5;124mthe\u001b[39m\u001b[38;5;132;01m{\u001b[39;00mnum\u001b[38;5;132;01m}\u001b[39;00m\u001b[38;5;124m is even\u001b[39m\u001b[38;5;124m\"\u001b[39m)\n",
      "\u001b[1;31mNameError\u001b[0m: name 'start' is not defined"
     ]
    }
   ],
   "source": [
    "import random \n",
    "num=random.randint(start,end)\n",
    "if num%2==0:\n",
    "    print(f\"the{num} is even\")\n",
    "else:\n",
    "   print(f\"the {num} is odd\")"
   ]
  },
  {
   "cell_type": "code",
   "execution_count": null,
   "id": "b28f7d06-4f96-436d-afa9-c2aa8d44b990",
   "metadata": {},
   "outputs": [],
   "source": [
    "# wap ask the user enter the distance \n",
    "#if distance greater than 25km \n",
    "#  then enter the charge \n",
    "#  print the total cost \n",
    "#otherwise \n",
    "#   print free ride"
   ]
  },
  {
   "cell_type": "code",
   "execution_count": 2,
   "id": "93803b1c-e12f-43de-a36b-94cad96d5afb",
   "metadata": {},
   "outputs": [
    {
     "name": "stdin",
     "output_type": "stream",
     "text": [
      "enter the number 24\n"
     ]
    },
    {
     "name": "stdout",
     "output_type": "stream",
     "text": [
      "enjoy the free ride\n"
     ]
    }
   ],
   "source": [
    "distance=eval(input(\"enter the number\"))\n",
    "if distance>25:\n",
    "    charge=eval(input(\"enter the charge\"))\n",
    "    cost=distance*cost\n",
    "    print(\"the total charge is :\",cost)\n",
    "else:\n",
    "    print(\"enjoy the free ride\")"
   ]
  },
  {
   "cell_type": "code",
   "execution_count": null,
   "id": "3a047ccf-deb8-4002-9ee8-7baf515a54c2",
   "metadata": {},
   "outputs": [],
   "source": [
    "distance = eval(input(\"enter the distance in KM:\"))\n",
    "cutoff_distance = eval(input(\"enter the cutoff_distance in KM:\"))\n",
    "if distance>cutoff_distance:\n",
    "    chargeabl_distance*cut"
   ]
  },
  {
   "cell_type": "code",
   "execution_count": null,
   "id": "fd8044c5-cc70-42bc-b260-147e59f21212",
   "metadata": {},
   "outputs": [],
   "source": [
    "# wap ask the user enter the course\n",
    "# ask the user enter the institute \n",
    "# if the course equal to data science and institude\n",
    "#  then you are good \n",
    "#otherwise \n",
    "# you are bab"
   ]
  },
  {
   "cell_type": "code",
   "execution_count": 3,
   "id": "d240f53f-837e-456f-9bf3-c79a6e137759",
   "metadata": {},
   "outputs": [
    {
     "name": "stdin",
     "output_type": "stream",
     "text": [
      "enter the course : data science\n",
      "enter the institude: naresh it\n"
     ]
    },
    {
     "name": "stdout",
     "output_type": "stream",
     "text": [
      "good\n"
     ]
    }
   ],
   "source": [
    "course=input(\"enter the course :\")\n",
    "institude=input(\"enter the institude:\")\n",
    "if course==\"data science\" and institude==\"naresh it\":\n",
    "    print(\"good\")\n",
    "else:\n",
    "    print(\"bad\")"
   ]
  },
  {
   "cell_type": "code",
   "execution_count": 4,
   "id": "a55076be-bf18-468e-b772-d551a333dade",
   "metadata": {},
   "outputs": [
    {
     "name": "stdin",
     "output_type": "stream",
     "text": [
      "enter the course : python\n",
      "enter the institude: jnpc\n"
     ]
    },
    {
     "name": "stdout",
     "output_type": "stream",
     "text": [
      "bad\n"
     ]
    }
   ],
   "source": [
    "course=input(\"enter the course :\")\n",
    "institude=input(\"enter the institude:\")\n",
    "if course==\"data science\" or institude==\"naresh it\":\n",
    "    print(\"good\")\n",
    "else:\n",
    "    print(\"bad\")"
   ]
  },
  {
   "cell_type": "markdown",
   "id": "0f5f0aaf-d058-4993-a20c-83b155c1dcc7",
   "metadata": {},
   "source": [
    "- and means two condition need to satisfy \n",
    "- or means any one condtion enough to satisfy"
   ]
  },
  {
   "cell_type": "code",
   "execution_count": null,
   "id": "644c09a7-a57b-4b73-bc49-50a395fee5f2",
   "metadata": {},
   "outputs": [],
   "source": [
    "# wap of the user enter a random num betwn 1 to 20\n",
    "# ask the user entre another number from keybord , treat this as number2 \n",
    "# if number1 equal to number2\n",
    "#    print you won \n",
    "# otherwise \n",
    "# print you lost "
   ]
  },
  {
   "cell_type": "code",
   "execution_count": 5,
   "id": "0ee3d591-45bb-487f-81db-fcf9736f003a",
   "metadata": {},
   "outputs": [
    {
     "name": "stdin",
     "output_type": "stream",
     "text": [
      "enter the number2 : 8\n"
     ]
    },
    {
     "name": "stdout",
     "output_type": "stream",
     "text": [
      "you won\n"
     ]
    }
   ],
   "source": [
    "import random \n",
    "num1=random.randint(1,20)\n",
    "num2=eval(input(\"enter the number2 :\"))\n",
    "if num1==num2:\n",
    "    print('you won')\n",
    "else:\n",
    "    print('you lost')\n"
   ]
  },
  {
   "cell_type": "markdown",
   "id": "ac821e14-63f3-4ce1-8f31-7a4d0636f06f",
   "metadata": {},
   "source": [
    "**if-elif-else**"
   ]
  },
  {
   "cell_type": "markdown",
   "id": "8b1d70ae-2862-4760-bdd4-1eb8b7f0d78b",
   "metadata": {},
   "source": [
    "- if has one condition \n",
    "\n",
    "- elif has sencond condtion \n",
    "\n",
    "- if both are false then teh result in else"
   ]
  },
  {
   "cell_type": "code",
   "execution_count": null,
   "id": "e4c8d45b-b6bd-4ba6-a9ee-a802e8506489",
   "metadata": {},
   "outputs": [],
   "source": [
    "if <condition>:\n",
    "    <statement>\n",
    "    \n",
    "elif <condition>:\n",
    "    <statement>\n",
    "else:\n",
    "    <statement>\n",
    "\n",
    "\n",
    "if-else\n",
    "if-elif-else\n",
    "if-elif-elif-else"
   ]
  },
  {
   "cell_type": "code",
   "execution_count": 7,
   "id": "33877a89-001d-4b0f-af11-2e853b41d2b6",
   "metadata": {},
   "outputs": [
    {
     "name": "stdin",
     "output_type": "stream",
     "text": [
      "enter the number: 3\n"
     ]
    },
    {
     "name": "stdout",
     "output_type": "stream",
     "text": [
      "three\n"
     ]
    }
   ],
   "source": [
    "# wap ask the user enter number \n",
    "# if number equal to 1 then print one \n",
    "# if number equal to 2 then print two\n",
    "# if number equal to 3 then print three\n",
    "# otherwise print enter a vaild number\n",
    "\n",
    "num=eval(input(\"enter the number:\"))\n",
    "if num==1:\n",
    "    print(\"one\")\n",
    "elif num==2:\n",
    "    print(\"two\")\n",
    "elif num==3:\n",
    "    print(\"three\")\n",
    "else:\n",
    "    print(\"enter the vaild number\")"
   ]
  },
  {
   "cell_type": "code",
   "execution_count": 10,
   "id": "e1c9bb16-7e11-4919-ba0a-9e6ac9242c2b",
   "metadata": {},
   "outputs": [
    {
     "name": "stdin",
     "output_type": "stream",
     "text": [
      "enter the number: 0\n"
     ]
    },
    {
     "name": "stdout",
     "output_type": "stream",
     "text": [
      "Zero\n"
     ]
    }
   ],
   "source": [
    "# wap ask the user enter a num \n",
    "# if num is grater then zero print postive \n",
    "# if num is less than zero print negative \n",
    "# otherwize print zero\n",
    "\n",
    "num=eval(input(\"enter the number:\"))\n",
    "if num>0:\n",
    "    print(\"positive\")\n",
    "elif num<0:\n",
    "    print(\"Negative\")\n",
    "else:\n",
    "    print(\"Zero\")"
   ]
  },
  {
   "cell_type": "code",
   "execution_count": 13,
   "id": "de4a3695-4ab9-4a2f-99c7-99c1bf55773d",
   "metadata": {},
   "outputs": [
    {
     "name": "stdin",
     "output_type": "stream",
     "text": [
      "enter the percentage: 90\n"
     ]
    },
    {
     "name": "stdout",
     "output_type": "stream",
     "text": [
      "A Grade\n"
     ]
    }
   ],
   "source": [
    "# wap ask the user enter the percentage of marks\n",
    "# if percentage greater than 90 print A grade  \n",
    "# if percentage betweeen 75 to 90 print B grade  \n",
    "# if percentage between 50 to 75 print C grade  \n",
    "# if percentage between 35 to 50 print D grade \n",
    "# if percentage less than 35 print fail\n",
    "\n",
    "percenatge=eval(input(\"enter the percentage:\"))\n",
    "if percenatge>=90:\n",
    "    print('A Grade')\n",
    "elif percenatge>=75:\n",
    "    print('B Grade')\n",
    "elif percenatge>=50:\n",
    "    print('C Grade')\n",
    "elif percenatge>=35:\n",
    "    print('D Grade')\n",
    "else:\n",
    "    print(\"Fail\")"
   ]
  },
  {
   "cell_type": "code",
   "execution_count": 19,
   "id": "9adce9a3-3bd4-4a7a-9e3b-0b848f5f36b2",
   "metadata": {},
   "outputs": [
    {
     "name": "stdin",
     "output_type": "stream",
     "text": [
      "Enter a Age: 0.4\n"
     ]
    },
    {
     "name": "stdout",
     "output_type": "stream",
     "text": [
      "Young age\n"
     ]
    }
   ],
   "source": [
    "# wap ask the user entr the age \n",
    "# if the age graeter than 75 print old age \n",
    "# if the age between 50 to 75 print SS\n",
    "# if the age between 30 to 50 print MA\n",
    "# if the age between 15 to 30 print young age\n",
    "# if the age between less than 15 print Kid\n",
    "\n",
    "age = eval (input(\"Enter a Age:\"))\n",
    "if age>=75:\n",
    "    print('old age')\n",
    "elif age>=50:\n",
    "    print(\"SS\")\n",
    "elif age>=30:\n",
    "    print('MA')\n",
    "elif percenatge>15:\n",
    "    print('Young age')\n",
    "else:\n",
    "    print(\"Kid\")"
   ]
  },
  {
   "cell_type": "code",
   "execution_count": null,
   "id": "eaef23e8-1eb2-40c8-9545-23d1a4fd35a3",
   "metadata": {},
   "outputs": [],
   "source": []
  }
 ],
 "metadata": {
  "kernelspec": {
   "display_name": "Python 3 (ipykernel)",
   "language": "python",
   "name": "python3"
  },
  "language_info": {
   "codemirror_mode": {
    "name": "ipython",
    "version": 3
   },
   "file_extension": ".py",
   "mimetype": "text/x-python",
   "name": "python",
   "nbconvert_exporter": "python",
   "pygments_lexer": "ipython3",
   "version": "3.11.7"
  }
 },
 "nbformat": 4,
 "nbformat_minor": 5
}
